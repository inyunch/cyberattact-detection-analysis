{
 "cells": [
  {
   "cell_type": "markdown",
   "metadata": {},
   "source": [
    "# Initial Data Analysis (IDA)\n",
    "## Cybersecurity Threat Detection Analysis\n",
    "\n",
    "**Purpose:** This notebook performs initial data analysis on both datasets:\n",
    "1. Global Cybersecurity Threats Dataset (2015-2024)\n",
    "2. Cybersecurity Intrusion Detection Dataset\n",
    "\n",
    "**Steps:**\n",
    "- Data loading and inspection\n",
    "- Data type verification\n",
    "- Missing value analysis\n",
    "- Duplicate detection\n",
    "- Basic descriptive statistics\n",
    "- Data quality assessment"
   ]
  },
  {
   "cell_type": "code",
   "metadata": {
    "ExecuteTime": {
     "end_time": "2025-10-07T13:14:15.047109Z",
     "start_time": "2025-10-07T13:14:15.041012Z"
    }
   },
   "source": [
    "# Import libraries\n",
    "import pandas as pd\n",
    "import numpy as np\n",
    "import matplotlib.pyplot as plt\n",
    "import seaborn as sns\n",
    "import warnings\n",
    "\n",
    "warnings.filterwarnings('ignore')\n",
    "\n",
    "# Set display options\n",
    "pd.set_option('display.max_columns', None)\n",
    "pd.set_option('display.max_rows', 100)\n",
    "\n",
    "# Set visualization style\n",
    "sns.set_style('whitegrid')\n",
    "plt.rcParams['figure.figsize'] = (12, 6)\n",
    "plt.rcParams['font.size'] = 10"
   ],
   "outputs": [],
   "execution_count": 7
  },
  {
   "cell_type": "markdown",
   "metadata": {},
   "source": [
    "## 1. Data Loading"
   ]
  },
  {
   "cell_type": "code",
   "metadata": {
    "ExecuteTime": {
     "end_time": "2025-10-07T13:14:15.101114Z",
     "start_time": "2025-10-07T13:14:15.073386Z"
    }
   },
   "source": [
    "# Load datasets\n",
    "global_threats = pd.read_csv('../data/Global_Cybersecurity_Threats_2015-2024.csv')\n",
    "intrusion_data = pd.read_csv('../data/cybersecurity_intrusion_data.csv')\n",
    "\n",
    "print(\"✅ Datasets loaded successfully!\")\n",
    "print(f\"\\nGlobal Threats shape: {global_threats.shape}\")\n",
    "print(f\"Intrusion Detection shape: {intrusion_data.shape}\")"
   ],
   "outputs": [
    {
     "name": "stdout",
     "output_type": "stream",
     "text": [
      "✅ Datasets loaded successfully!\n",
      "\n",
      "Global Threats shape: (3000, 10)\n",
      "Intrusion Detection shape: (9537, 11)\n"
     ]
    }
   ],
   "execution_count": 8
  },
  {
   "cell_type": "markdown",
   "metadata": {},
   "source": [
    "## 2. Initial Inspection - Global Threats Dataset"
   ]
  },
  {
   "cell_type": "code",
   "metadata": {
    "ExecuteTime": {
     "end_time": "2025-10-07T13:14:15.132245Z",
     "start_time": "2025-10-07T13:14:15.114075Z"
    }
   },
   "source": [
    "# Display first few rows\n",
    "print(\"📊 First 5 rows:\")\n",
    "global_threats.head()"
   ],
   "outputs": [
    {
     "name": "stdout",
     "output_type": "stream",
     "text": [
      "📊 First 5 rows:\n"
     ]
    },
    {
     "data": {
      "text/plain": [
       "   Country  Year        Attack Type     Target Industry  \\\n",
       "0    China  2019           Phishing           Education   \n",
       "1    China  2019         Ransomware              Retail   \n",
       "2    India  2017  Man-in-the-Middle                  IT   \n",
       "3       UK  2024         Ransomware  Telecommunications   \n",
       "4  Germany  2018  Man-in-the-Middle                  IT   \n",
       "\n",
       "   Financial Loss (in Million $)  Number of Affected Users Attack Source  \\\n",
       "0                          80.53                    773169  Hacker Group   \n",
       "1                          62.19                    295961  Hacker Group   \n",
       "2                          38.65                    605895  Hacker Group   \n",
       "3                          41.44                    659320  Nation-state   \n",
       "4                          74.41                    810682       Insider   \n",
       "\n",
       "  Security Vulnerability Type Defense Mechanism Used  \\\n",
       "0          Unpatched Software                    VPN   \n",
       "1          Unpatched Software               Firewall   \n",
       "2              Weak Passwords                    VPN   \n",
       "3          Social Engineering     AI-based Detection   \n",
       "4          Social Engineering                    VPN   \n",
       "\n",
       "   Incident Resolution Time (in Hours)  \n",
       "0                                   63  \n",
       "1                                   71  \n",
       "2                                   20  \n",
       "3                                    7  \n",
       "4                                   68  "
      ],
      "text/html": [
       "<div>\n",
       "<style scoped>\n",
       "    .dataframe tbody tr th:only-of-type {\n",
       "        vertical-align: middle;\n",
       "    }\n",
       "\n",
       "    .dataframe tbody tr th {\n",
       "        vertical-align: top;\n",
       "    }\n",
       "\n",
       "    .dataframe thead th {\n",
       "        text-align: right;\n",
       "    }\n",
       "</style>\n",
       "<table border=\"1\" class=\"dataframe\">\n",
       "  <thead>\n",
       "    <tr style=\"text-align: right;\">\n",
       "      <th></th>\n",
       "      <th>Country</th>\n",
       "      <th>Year</th>\n",
       "      <th>Attack Type</th>\n",
       "      <th>Target Industry</th>\n",
       "      <th>Financial Loss (in Million $)</th>\n",
       "      <th>Number of Affected Users</th>\n",
       "      <th>Attack Source</th>\n",
       "      <th>Security Vulnerability Type</th>\n",
       "      <th>Defense Mechanism Used</th>\n",
       "      <th>Incident Resolution Time (in Hours)</th>\n",
       "    </tr>\n",
       "  </thead>\n",
       "  <tbody>\n",
       "    <tr>\n",
       "      <th>0</th>\n",
       "      <td>China</td>\n",
       "      <td>2019</td>\n",
       "      <td>Phishing</td>\n",
       "      <td>Education</td>\n",
       "      <td>80.53</td>\n",
       "      <td>773169</td>\n",
       "      <td>Hacker Group</td>\n",
       "      <td>Unpatched Software</td>\n",
       "      <td>VPN</td>\n",
       "      <td>63</td>\n",
       "    </tr>\n",
       "    <tr>\n",
       "      <th>1</th>\n",
       "      <td>China</td>\n",
       "      <td>2019</td>\n",
       "      <td>Ransomware</td>\n",
       "      <td>Retail</td>\n",
       "      <td>62.19</td>\n",
       "      <td>295961</td>\n",
       "      <td>Hacker Group</td>\n",
       "      <td>Unpatched Software</td>\n",
       "      <td>Firewall</td>\n",
       "      <td>71</td>\n",
       "    </tr>\n",
       "    <tr>\n",
       "      <th>2</th>\n",
       "      <td>India</td>\n",
       "      <td>2017</td>\n",
       "      <td>Man-in-the-Middle</td>\n",
       "      <td>IT</td>\n",
       "      <td>38.65</td>\n",
       "      <td>605895</td>\n",
       "      <td>Hacker Group</td>\n",
       "      <td>Weak Passwords</td>\n",
       "      <td>VPN</td>\n",
       "      <td>20</td>\n",
       "    </tr>\n",
       "    <tr>\n",
       "      <th>3</th>\n",
       "      <td>UK</td>\n",
       "      <td>2024</td>\n",
       "      <td>Ransomware</td>\n",
       "      <td>Telecommunications</td>\n",
       "      <td>41.44</td>\n",
       "      <td>659320</td>\n",
       "      <td>Nation-state</td>\n",
       "      <td>Social Engineering</td>\n",
       "      <td>AI-based Detection</td>\n",
       "      <td>7</td>\n",
       "    </tr>\n",
       "    <tr>\n",
       "      <th>4</th>\n",
       "      <td>Germany</td>\n",
       "      <td>2018</td>\n",
       "      <td>Man-in-the-Middle</td>\n",
       "      <td>IT</td>\n",
       "      <td>74.41</td>\n",
       "      <td>810682</td>\n",
       "      <td>Insider</td>\n",
       "      <td>Social Engineering</td>\n",
       "      <td>VPN</td>\n",
       "      <td>68</td>\n",
       "    </tr>\n",
       "  </tbody>\n",
       "</table>\n",
       "</div>"
      ]
     },
     "execution_count": 9,
     "metadata": {},
     "output_type": "execute_result"
    }
   ],
   "execution_count": 9
  },
  {
   "cell_type": "code",
   "metadata": {
    "ExecuteTime": {
     "end_time": "2025-10-07T13:14:15.218248Z",
     "start_time": "2025-10-07T13:14:15.204046Z"
    }
   },
   "source": [
    "# Data info\n",
    "print(\"📋 Dataset Information:\")\n",
    "global_threats.info()"
   ],
   "outputs": [
    {
     "name": "stdout",
     "output_type": "stream",
     "text": [
      "📋 Dataset Information:\n",
      "<class 'pandas.core.frame.DataFrame'>\n",
      "RangeIndex: 3000 entries, 0 to 2999\n",
      "Data columns (total 10 columns):\n",
      " #   Column                               Non-Null Count  Dtype  \n",
      "---  ------                               --------------  -----  \n",
      " 0   Country                              3000 non-null   object \n",
      " 1   Year                                 3000 non-null   int64  \n",
      " 2   Attack Type                          3000 non-null   object \n",
      " 3   Target Industry                      3000 non-null   object \n",
      " 4   Financial Loss (in Million $)        3000 non-null   float64\n",
      " 5   Number of Affected Users             3000 non-null   int64  \n",
      " 6   Attack Source                        3000 non-null   object \n",
      " 7   Security Vulnerability Type          3000 non-null   object \n",
      " 8   Defense Mechanism Used               3000 non-null   object \n",
      " 9   Incident Resolution Time (in Hours)  3000 non-null   int64  \n",
      "dtypes: float64(1), int64(3), object(6)\n",
      "memory usage: 234.5+ KB\n"
     ]
    }
   ],
   "execution_count": 10
  },
  {
   "cell_type": "code",
   "metadata": {
    "ExecuteTime": {
     "end_time": "2025-10-07T13:14:15.246012Z",
     "start_time": "2025-10-07T13:14:15.227519Z"
    }
   },
   "source": [
    "# Basic statistics\n",
    "print(\"📈 Descriptive Statistics (Numeric Columns):\")\n",
    "global_threats.describe()"
   ],
   "outputs": [
    {
     "name": "stdout",
     "output_type": "stream",
     "text": [
      "📈 Descriptive Statistics (Numeric Columns):\n"
     ]
    },
    {
     "data": {
      "text/plain": [
       "              Year  Financial Loss (in Million $)  Number of Affected Users  \\\n",
       "count  3000.000000                    3000.000000               3000.000000   \n",
       "mean   2019.570333                      50.492970             504684.136333   \n",
       "std       2.857932                      28.791415             289944.084972   \n",
       "min    2015.000000                       0.500000                424.000000   \n",
       "25%    2017.000000                      25.757500             255805.250000   \n",
       "50%    2020.000000                      50.795000             504513.000000   \n",
       "75%    2022.000000                      75.630000             758088.500000   \n",
       "max    2024.000000                      99.990000             999635.000000   \n",
       "\n",
       "       Incident Resolution Time (in Hours)  \n",
       "count                          3000.000000  \n",
       "mean                             36.476000  \n",
       "std                              20.570768  \n",
       "min                               1.000000  \n",
       "25%                              19.000000  \n",
       "50%                              37.000000  \n",
       "75%                              55.000000  \n",
       "max                              72.000000  "
      ],
      "text/html": [
       "<div>\n",
       "<style scoped>\n",
       "    .dataframe tbody tr th:only-of-type {\n",
       "        vertical-align: middle;\n",
       "    }\n",
       "\n",
       "    .dataframe tbody tr th {\n",
       "        vertical-align: top;\n",
       "    }\n",
       "\n",
       "    .dataframe thead th {\n",
       "        text-align: right;\n",
       "    }\n",
       "</style>\n",
       "<table border=\"1\" class=\"dataframe\">\n",
       "  <thead>\n",
       "    <tr style=\"text-align: right;\">\n",
       "      <th></th>\n",
       "      <th>Year</th>\n",
       "      <th>Financial Loss (in Million $)</th>\n",
       "      <th>Number of Affected Users</th>\n",
       "      <th>Incident Resolution Time (in Hours)</th>\n",
       "    </tr>\n",
       "  </thead>\n",
       "  <tbody>\n",
       "    <tr>\n",
       "      <th>count</th>\n",
       "      <td>3000.000000</td>\n",
       "      <td>3000.000000</td>\n",
       "      <td>3000.000000</td>\n",
       "      <td>3000.000000</td>\n",
       "    </tr>\n",
       "    <tr>\n",
       "      <th>mean</th>\n",
       "      <td>2019.570333</td>\n",
       "      <td>50.492970</td>\n",
       "      <td>504684.136333</td>\n",
       "      <td>36.476000</td>\n",
       "    </tr>\n",
       "    <tr>\n",
       "      <th>std</th>\n",
       "      <td>2.857932</td>\n",
       "      <td>28.791415</td>\n",
       "      <td>289944.084972</td>\n",
       "      <td>20.570768</td>\n",
       "    </tr>\n",
       "    <tr>\n",
       "      <th>min</th>\n",
       "      <td>2015.000000</td>\n",
       "      <td>0.500000</td>\n",
       "      <td>424.000000</td>\n",
       "      <td>1.000000</td>\n",
       "    </tr>\n",
       "    <tr>\n",
       "      <th>25%</th>\n",
       "      <td>2017.000000</td>\n",
       "      <td>25.757500</td>\n",
       "      <td>255805.250000</td>\n",
       "      <td>19.000000</td>\n",
       "    </tr>\n",
       "    <tr>\n",
       "      <th>50%</th>\n",
       "      <td>2020.000000</td>\n",
       "      <td>50.795000</td>\n",
       "      <td>504513.000000</td>\n",
       "      <td>37.000000</td>\n",
       "    </tr>\n",
       "    <tr>\n",
       "      <th>75%</th>\n",
       "      <td>2022.000000</td>\n",
       "      <td>75.630000</td>\n",
       "      <td>758088.500000</td>\n",
       "      <td>55.000000</td>\n",
       "    </tr>\n",
       "    <tr>\n",
       "      <th>max</th>\n",
       "      <td>2024.000000</td>\n",
       "      <td>99.990000</td>\n",
       "      <td>999635.000000</td>\n",
       "      <td>72.000000</td>\n",
       "    </tr>\n",
       "  </tbody>\n",
       "</table>\n",
       "</div>"
      ]
     },
     "execution_count": 11,
     "metadata": {},
     "output_type": "execute_result"
    }
   ],
   "execution_count": 11
  },
  {
   "cell_type": "code",
   "metadata": {
    "ExecuteTime": {
     "end_time": "2025-10-07T13:14:15.292914Z",
     "start_time": "2025-10-07T13:14:15.278160Z"
    }
   },
   "source": [
    "# Categorical columns summary\n",
    "print(\"📊 Categorical Variables Summary:\\n\")\n",
    "categorical_cols = ['Country', 'Attack Type', 'Target Industry', 'Attack Source', \n",
    "                   'Security Vulnerability Type', 'Defense Mechanism Used']\n",
    "\n",
    "for col in categorical_cols:\n",
    "    print(f\"\\n{col}:\")\n",
    "    print(f\"  Unique values: {global_threats[col].nunique()}\")\n",
    "    print(f\"  Top 5 values:\\n{global_threats[col].value_counts().head()}\")"
   ],
   "outputs": [
    {
     "name": "stdout",
     "output_type": "stream",
     "text": [
      "📊 Categorical Variables Summary:\n",
      "\n",
      "\n",
      "Country:\n",
      "  Unique values: 10\n",
      "  Top 5 values:\n",
      "Country\n",
      "UK        321\n",
      "Brazil    310\n",
      "India     308\n",
      "France    305\n",
      "Japan     305\n",
      "Name: count, dtype: int64\n",
      "\n",
      "Attack Type:\n",
      "  Unique values: 6\n",
      "  Top 5 values:\n",
      "Attack Type\n",
      "DDoS             531\n",
      "Phishing         529\n",
      "SQL Injection    503\n",
      "Ransomware       493\n",
      "Malware          485\n",
      "Name: count, dtype: int64\n",
      "\n",
      "Target Industry:\n",
      "  Unique values: 7\n",
      "  Top 5 values:\n",
      "Target Industry\n",
      "IT            478\n",
      "Banking       445\n",
      "Healthcare    429\n",
      "Retail        423\n",
      "Education     419\n",
      "Name: count, dtype: int64\n",
      "\n",
      "Attack Source:\n",
      "  Unique values: 4\n",
      "  Top 5 values:\n",
      "Attack Source\n",
      "Nation-state    794\n",
      "Unknown         768\n",
      "Insider         752\n",
      "Hacker Group    686\n",
      "Name: count, dtype: int64\n",
      "\n",
      "Security Vulnerability Type:\n",
      "  Unique values: 4\n",
      "  Top 5 values:\n",
      "Security Vulnerability Type\n",
      "Zero-day              785\n",
      "Social Engineering    747\n",
      "Unpatched Software    738\n",
      "Weak Passwords        730\n",
      "Name: count, dtype: int64\n",
      "\n",
      "Defense Mechanism Used:\n",
      "  Unique values: 5\n",
      "  Top 5 values:\n",
      "Defense Mechanism Used\n",
      "Antivirus             628\n",
      "VPN                   612\n",
      "Encryption            592\n",
      "Firewall              585\n",
      "AI-based Detection    583\n",
      "Name: count, dtype: int64\n"
     ]
    }
   ],
   "execution_count": 12
  },
  {
   "cell_type": "markdown",
   "metadata": {},
   "source": [
    "### 2.1 Missing Values Analysis - Global Threats"
   ]
  },
  {
   "cell_type": "code",
   "metadata": {
    "ExecuteTime": {
     "end_time": "2025-10-07T13:14:15.762474Z",
     "start_time": "2025-10-07T13:14:15.316756Z"
    }
   },
   "source": [
    "# Calculate missing values\n",
    "missing_global = pd.DataFrame({\n",
    "    'Column': global_threats.columns,\n",
    "    'Missing_Count': global_threats.isnull().sum(),\n",
    "    'Missing_Percentage': (global_threats.isnull().sum() / len(global_threats) * 100).round(2)\n",
    "}).sort_values('Missing_Percentage', ascending=False)\n",
    "\n",
    "print(\"🔍 Missing Values Analysis:\")\n",
    "print(missing_global)\n",
    "\n",
    "# Visualize missing data\n",
    "fig, ax = plt.subplots(figsize=(10, 6))\n",
    "missing_global[missing_global['Missing_Percentage'] > 0].plot(\n",
    "    x='Column', y='Missing_Percentage', kind='barh', ax=ax, color='coral'\n",
    ")\n",
    "ax.set_xlabel('Missing Percentage (%)')\n",
    "ax.set_title('Missing Data Analysis - Global Threats Dataset')\n",
    "plt.tight_layout()\n",
    "plt.show()"
   ],
   "outputs": [
    {
     "name": "stdout",
     "output_type": "stream",
     "text": [
      "🔍 Missing Values Analysis:\n",
      "                                                                  Column  \\\n",
      "Country                                                          Country   \n",
      "Year                                                                Year   \n",
      "Attack Type                                                  Attack Type   \n",
      "Target Industry                                          Target Industry   \n",
      "Financial Loss (in Million $)              Financial Loss (in Million $)   \n",
      "Number of Affected Users                        Number of Affected Users   \n",
      "Attack Source                                              Attack Source   \n",
      "Security Vulnerability Type                  Security Vulnerability Type   \n",
      "Defense Mechanism Used                            Defense Mechanism Used   \n",
      "Incident Resolution Time (in Hours)  Incident Resolution Time (in Hours)   \n",
      "\n",
      "                                     Missing_Count  Missing_Percentage  \n",
      "Country                                          0                 0.0  \n",
      "Year                                             0                 0.0  \n",
      "Attack Type                                      0                 0.0  \n",
      "Target Industry                                  0                 0.0  \n",
      "Financial Loss (in Million $)                    0                 0.0  \n",
      "Number of Affected Users                         0                 0.0  \n",
      "Attack Source                                    0                 0.0  \n",
      "Security Vulnerability Type                      0                 0.0  \n",
      "Defense Mechanism Used                           0                 0.0  \n",
      "Incident Resolution Time (in Hours)              0                 0.0  \n"
     ]
    },
    {
     "ename": "IndexError",
     "evalue": "index 0 is out of bounds for axis 0 with size 0",
     "output_type": "error",
     "traceback": [
      "\u001B[31m---------------------------------------------------------------------------\u001B[39m",
      "\u001B[31mIndexError\u001B[39m                                Traceback (most recent call last)",
      "\u001B[36mCell\u001B[39m\u001B[36m \u001B[39m\u001B[32mIn[13]\u001B[39m\u001B[32m, line 13\u001B[39m\n\u001B[32m     11\u001B[39m \u001B[38;5;66;03m# Visualize missing data\u001B[39;00m\n\u001B[32m     12\u001B[39m fig, ax = plt.subplots(figsize=(\u001B[32m10\u001B[39m, \u001B[32m6\u001B[39m))\n\u001B[32m---> \u001B[39m\u001B[32m13\u001B[39m \u001B[43mmissing_global\u001B[49m\u001B[43m[\u001B[49m\u001B[43mmissing_global\u001B[49m\u001B[43m[\u001B[49m\u001B[33;43m'\u001B[39;49m\u001B[33;43mMissing_Percentage\u001B[39;49m\u001B[33;43m'\u001B[39;49m\u001B[43m]\u001B[49m\u001B[43m \u001B[49m\u001B[43m>\u001B[49m\u001B[43m \u001B[49m\u001B[32;43m0\u001B[39;49m\u001B[43m]\u001B[49m\u001B[43m.\u001B[49m\u001B[43mplot\u001B[49m\u001B[43m(\u001B[49m\n\u001B[32m     14\u001B[39m \u001B[43m    \u001B[49m\u001B[43mx\u001B[49m\u001B[43m=\u001B[49m\u001B[33;43m'\u001B[39;49m\u001B[33;43mColumn\u001B[39;49m\u001B[33;43m'\u001B[39;49m\u001B[43m,\u001B[49m\u001B[43m \u001B[49m\u001B[43my\u001B[49m\u001B[43m=\u001B[49m\u001B[33;43m'\u001B[39;49m\u001B[33;43mMissing_Percentage\u001B[39;49m\u001B[33;43m'\u001B[39;49m\u001B[43m,\u001B[49m\u001B[43m \u001B[49m\u001B[43mkind\u001B[49m\u001B[43m=\u001B[49m\u001B[33;43m'\u001B[39;49m\u001B[33;43mbarh\u001B[39;49m\u001B[33;43m'\u001B[39;49m\u001B[43m,\u001B[49m\u001B[43m \u001B[49m\u001B[43max\u001B[49m\u001B[43m=\u001B[49m\u001B[43max\u001B[49m\u001B[43m,\u001B[49m\u001B[43m \u001B[49m\u001B[43mcolor\u001B[49m\u001B[43m=\u001B[49m\u001B[33;43m'\u001B[39;49m\u001B[33;43mcoral\u001B[39;49m\u001B[33;43m'\u001B[39;49m\n\u001B[32m     15\u001B[39m \u001B[43m)\u001B[49m\n\u001B[32m     16\u001B[39m ax.set_xlabel(\u001B[33m'\u001B[39m\u001B[33mMissing Percentage (\u001B[39m\u001B[33m%\u001B[39m\u001B[33m)\u001B[39m\u001B[33m'\u001B[39m)\n\u001B[32m     17\u001B[39m ax.set_title(\u001B[33m'\u001B[39m\u001B[33mMissing Data Analysis - Global Threats Dataset\u001B[39m\u001B[33m'\u001B[39m)\n",
      "\u001B[36mFile \u001B[39m\u001B[32m~\\anaconda3\\envs\\cyberattact-detection-analysis\\Lib\\site-packages\\pandas\\plotting\\_core.py:1030\u001B[39m, in \u001B[36mPlotAccessor.__call__\u001B[39m\u001B[34m(self, *args, **kwargs)\u001B[39m\n\u001B[32m   1027\u001B[39m             label_name = label_kw \u001B[38;5;129;01mor\u001B[39;00m data.columns\n\u001B[32m   1028\u001B[39m             data.columns = label_name\n\u001B[32m-> \u001B[39m\u001B[32m1030\u001B[39m \u001B[38;5;28;01mreturn\u001B[39;00m \u001B[43mplot_backend\u001B[49m\u001B[43m.\u001B[49m\u001B[43mplot\u001B[49m\u001B[43m(\u001B[49m\u001B[43mdata\u001B[49m\u001B[43m,\u001B[49m\u001B[43m \u001B[49m\u001B[43mkind\u001B[49m\u001B[43m=\u001B[49m\u001B[43mkind\u001B[49m\u001B[43m,\u001B[49m\u001B[43m \u001B[49m\u001B[43m*\u001B[49m\u001B[43m*\u001B[49m\u001B[43mkwargs\u001B[49m\u001B[43m)\u001B[49m\n",
      "\u001B[36mFile \u001B[39m\u001B[32m~\\anaconda3\\envs\\cyberattact-detection-analysis\\Lib\\site-packages\\pandas\\plotting\\_matplotlib\\__init__.py:71\u001B[39m, in \u001B[36mplot\u001B[39m\u001B[34m(data, kind, **kwargs)\u001B[39m\n\u001B[32m     69\u001B[39m         kwargs[\u001B[33m\"\u001B[39m\u001B[33max\u001B[39m\u001B[33m\"\u001B[39m] = \u001B[38;5;28mgetattr\u001B[39m(ax, \u001B[33m\"\u001B[39m\u001B[33mleft_ax\u001B[39m\u001B[33m\"\u001B[39m, ax)\n\u001B[32m     70\u001B[39m plot_obj = PLOT_CLASSES[kind](data, **kwargs)\n\u001B[32m---> \u001B[39m\u001B[32m71\u001B[39m \u001B[43mplot_obj\u001B[49m\u001B[43m.\u001B[49m\u001B[43mgenerate\u001B[49m\u001B[43m(\u001B[49m\u001B[43m)\u001B[49m\n\u001B[32m     72\u001B[39m plot_obj.draw()\n\u001B[32m     73\u001B[39m \u001B[38;5;28;01mreturn\u001B[39;00m plot_obj.result\n",
      "\u001B[36mFile \u001B[39m\u001B[32m~\\anaconda3\\envs\\cyberattact-detection-analysis\\Lib\\site-packages\\pandas\\plotting\\_matplotlib\\core.py:508\u001B[39m, in \u001B[36mMPLPlot.generate\u001B[39m\u001B[34m(self)\u001B[39m\n\u001B[32m    506\u001B[39m \u001B[38;5;28;01mfor\u001B[39;00m ax \u001B[38;5;129;01min\u001B[39;00m \u001B[38;5;28mself\u001B[39m.axes:\n\u001B[32m    507\u001B[39m     \u001B[38;5;28mself\u001B[39m._post_plot_logic_common(ax)\n\u001B[32m--> \u001B[39m\u001B[32m508\u001B[39m     \u001B[38;5;28;43mself\u001B[39;49m\u001B[43m.\u001B[49m\u001B[43m_post_plot_logic\u001B[49m\u001B[43m(\u001B[49m\u001B[43max\u001B[49m\u001B[43m,\u001B[49m\u001B[43m \u001B[49m\u001B[38;5;28;43mself\u001B[39;49m\u001B[43m.\u001B[49m\u001B[43mdata\u001B[49m\u001B[43m)\u001B[49m\n",
      "\u001B[36mFile \u001B[39m\u001B[32m~\\anaconda3\\envs\\cyberattact-detection-analysis\\Lib\\site-packages\\pandas\\plotting\\_matplotlib\\core.py:1972\u001B[39m, in \u001B[36mBarPlot._post_plot_logic\u001B[39m\u001B[34m(self, ax, data)\u001B[39m\n\u001B[32m   1969\u001B[39m \u001B[38;5;28;01melse\u001B[39;00m:\n\u001B[32m   1970\u001B[39m     str_index = [pprint_thing(key) \u001B[38;5;28;01mfor\u001B[39;00m key \u001B[38;5;129;01min\u001B[39;00m \u001B[38;5;28mrange\u001B[39m(data.shape[\u001B[32m0\u001B[39m])]\n\u001B[32m-> \u001B[39m\u001B[32m1972\u001B[39m s_edge = \u001B[38;5;28;43mself\u001B[39;49m\u001B[43m.\u001B[49m\u001B[43max_pos\u001B[49m\u001B[43m[\u001B[49m\u001B[32;43m0\u001B[39;49m\u001B[43m]\u001B[49m - \u001B[32m0.25\u001B[39m + \u001B[38;5;28mself\u001B[39m.lim_offset\n\u001B[32m   1973\u001B[39m e_edge = \u001B[38;5;28mself\u001B[39m.ax_pos[-\u001B[32m1\u001B[39m] + \u001B[32m0.25\u001B[39m + \u001B[38;5;28mself\u001B[39m.bar_width + \u001B[38;5;28mself\u001B[39m.lim_offset\n\u001B[32m   1975\u001B[39m \u001B[38;5;28mself\u001B[39m._decorate_ticks(ax, \u001B[38;5;28mself\u001B[39m._get_index_name(), str_index, s_edge, e_edge)\n",
      "\u001B[31mIndexError\u001B[39m: index 0 is out of bounds for axis 0 with size 0"
     ]
    },
    {
     "data": {
      "text/plain": [
       "<Figure size 1000x600 with 1 Axes>"
      ],
      "image/png": "[encoded data removed]"
     },
     "metadata": {},
     "output_type": "display_data"
    }
   ],
   "execution_count": 13
  },
  {
   "cell_type": "markdown",
   "metadata": {},
   "source": [
    "### 2.2 Duplicate Analysis - Global Threats"
   ]
  },
  {
   "cell_type": "code",
   "execution_count": null,
   "metadata": {},
   "outputs": [],
   "source": [
    "# Check for duplicates\n",
    "duplicates = global_threats.duplicated().sum()\n",
    "print(f\"🔄 Total duplicate rows: {duplicates}\")\n",
    "print(f\"Duplicate percentage: {(duplicates/len(global_threats)*100):.2f}%\")\n",
    "\n",
    "if duplicates > 0:\n",
    "    print(\"\\n⚠️ Duplicate rows found. These should be investigated and potentially removed.\")"
   ]
  },
  {
   "cell_type": "markdown",
   "metadata": {},
   "source": [
    "### 2.3 Data Quality Checks - Global Threats"
   ]
  },
  {
   "cell_type": "code",
   "execution_count": null,
   "metadata": {},
   "outputs": [],
   "source": [
    "# Check for negative values in numeric columns\n",
    "numeric_cols = ['Financial Loss (in Million $)', 'Number of Affected Users', \n",
    "                'Incident Resolution Time (in Hours)']\n",
    "\n",
    "print(\"🔍 Data Quality Checks:\\n\")\n",
    "\n",
    "for col in numeric_cols:\n",
    "    negative_count = (global_threats[col] < 0).sum()\n",
    "    zero_count = (global_threats[col] == 0).sum()\n",
    "    print(f\"{col}:\")\n",
    "    print(f\"  Negative values: {negative_count}\")\n",
    "    print(f\"  Zero values: {zero_count}\")\n",
    "    print(f\"  Min: {global_threats[col].min():.2f}\")\n",
    "    print(f\"  Max: {global_threats[col].max():.2f}\")\n",
    "    print()"
   ]
  },
  {
   "cell_type": "code",
   "execution_count": null,
   "metadata": {},
   "outputs": [],
   "source": [
    "# Check year range\n",
    "print(\"📅 Year Range Check:\")\n",
    "print(f\"Min Year: {global_threats['Year'].min()}\")\n",
    "print(f\"Max Year: {global_threats['Year'].max()}\")\n",
    "print(f\"Year distribution:\\n{global_threats['Year'].value_counts().sort_index()}\")"
   ]
  },
  {
   "cell_type": "markdown",
   "metadata": {},
   "source": [
    "### 2.4 Distribution Visualizations - Global Threats"
   ]
  },
  {
   "cell_type": "code",
   "execution_count": null,
   "metadata": {},
   "outputs": [],
   "source": [
    "# Financial losses distribution\n",
    "fig, axes = plt.subplots(1, 2, figsize=(14, 5))\n",
    "\n",
    "# Histogram\n",
    "axes[0].hist(global_threats['Financial Loss (in Million $)'], bins=50, color='skyblue', edgecolor='black')\n",
    "axes[0].set_xlabel('Financial Loss ($M)')\n",
    "axes[0].set_ylabel('Frequency')\n",
    "axes[0].set_title('Distribution of Financial Losses')\n",
    "\n",
    "# Box plot\n",
    "axes[1].boxplot(global_threats['Financial Loss (in Million $)'])\n",
    "axes[1].set_ylabel('Financial Loss ($M)')\n",
    "axes[1].set_title('Box Plot of Financial Losses')\n",
    "\n",
    "plt.tight_layout()\n",
    "plt.show()\n",
    "\n",
    "print(f\"📊 Financial Loss Statistics:\")\n",
    "print(f\"  Mean: ${global_threats['Financial Loss (in Million $)'].mean():.2f}M\")\n",
    "print(f\"  Median: ${global_threats['Financial Loss (in Million $)'].median():.2f}M\")\n",
    "print(f\"  Std Dev: ${global_threats['Financial Loss (in Million $)'].std():.2f}M\")\n",
    "print(f\"  Skewness: {global_threats['Financial Loss (in Million $)'].skew():.2f}\")"
   ]
  },
  {
   "cell_type": "code",
   "execution_count": null,
   "metadata": {},
   "outputs": [],
   "source": [
    "# Attack types distribution\n",
    "plt.figure(figsize=(12, 6))\n",
    "attack_counts = global_threats['Attack Type'].value_counts()\n",
    "attack_counts.plot(kind='barh', color='lightcoral')\n",
    "plt.xlabel('Count')\n",
    "plt.ylabel('Attack Type')\n",
    "plt.title('Attack Type Distribution')\n",
    "plt.tight_layout()\n",
    "plt.show()"
   ]
  },
  {
   "cell_type": "code",
   "execution_count": null,
   "metadata": {},
   "outputs": [],
   "source": [
    "# Top 15 countries by attack count\n",
    "plt.figure(figsize=(12, 6))\n",
    "country_counts = global_threats['Country'].value_counts().head(15)\n",
    "country_counts.plot(kind='barh', color='steelblue')\n",
    "plt.xlabel('Number of Attacks')\n",
    "plt.ylabel('Country')\n",
    "plt.title('Top 15 Countries by Attack Frequency')\n",
    "plt.tight_layout()\n",
    "plt.show()"
   ]
  },
  {
   "cell_type": "markdown",
   "metadata": {},
   "source": [
    "## 3. Initial Inspection - Intrusion Detection Dataset"
   ]
  },
  {
   "cell_type": "code",
   "execution_count": null,
   "metadata": {},
   "outputs": [],
   "source": [
    "# Display first few rows\n",
    "print(\"📊 First 5 rows:\")\n",
    "intrusion_data.head()"
   ]
  },
  {
   "cell_type": "code",
   "execution_count": null,
   "metadata": {},
   "outputs": [],
   "source": [
    "# Data info\n",
    "print(\"📋 Dataset Information:\")\n",
    "intrusion_data.info()"
   ]
  },
  {
   "cell_type": "code",
   "execution_count": null,
   "metadata": {},
   "outputs": [],
   "source": [
    "# Basic statistics\n",
    "print(\"📈 Descriptive Statistics:\")\n",
    "intrusion_data.describe()"
   ]
  },
  {
   "cell_type": "markdown",
   "metadata": {},
   "source": [
    "### 3.1 Missing Values Analysis - Intrusion Detection"
   ]
  },
  {
   "cell_type": "code",
   "execution_count": null,
   "metadata": {},
   "outputs": [],
   "source": [
    "# Calculate missing values\n",
    "missing_intrusion = pd.DataFrame({\n",
    "    'Column': intrusion_data.columns,\n",
    "    'Missing_Count': intrusion_data.isnull().sum(),\n",
    "    'Missing_Percentage': (intrusion_data.isnull().sum() / len(intrusion_data) * 100).round(2)\n",
    "}).sort_values('Missing_Percentage', ascending=False)\n",
    "\n",
    "print(\"🔍 Missing Values Analysis:\")\n",
    "print(missing_intrusion)\n",
    "\n",
    "# Visualize if there are missing values\n",
    "if missing_intrusion['Missing_Percentage'].sum() > 0:\n",
    "    fig, ax = plt.subplots(figsize=(10, 6))\n",
    "    missing_intrusion[missing_intrusion['Missing_Percentage'] > 0].plot(\n",
    "        x='Column', y='Missing_Percentage', kind='barh', ax=ax, color='coral'\n",
    "    )\n",
    "    ax.set_xlabel('Missing Percentage (%)')\n",
    "    ax.set_title('Missing Data Analysis - Intrusion Detection Dataset')\n",
    "    plt.tight_layout()\n",
    "    plt.show()\n",
    "else:\n",
    "    print(\"✅ No missing values found in the intrusion detection dataset!\")"
   ]
  },
  {
   "cell_type": "markdown",
   "metadata": {},
   "source": [
    "### 3.2 Class Balance Analysis"
   ]
  },
  {
   "cell_type": "code",
   "execution_count": null,
   "metadata": {},
   "outputs": [],
   "source": [
    "# Check class distribution\n",
    "attack_counts = intrusion_data['attack_detected'].value_counts()\n",
    "attack_pct = intrusion_data['attack_detected'].value_counts(normalize=True) * 100\n",
    "\n",
    "print(\"🎯 Class Distribution:\")\n",
    "print(f\"Normal (0): {attack_counts[0]} ({attack_pct[0]:.2f}%)\")\n",
    "print(f\"Attack (1): {attack_counts[1]} ({attack_pct[1]:.2f}%)\")\n",
    "print(f\"\\nImbalance Ratio: {attack_counts[0]/attack_counts[1]:.2f}:1\")\n",
    "\n",
    "# Visualize\n",
    "fig, axes = plt.subplots(1, 2, figsize=(14, 5))\n",
    "\n",
    "# Count plot\n",
    "attack_counts.plot(kind='bar', ax=axes[0], color=['skyblue', 'coral'])\n",
    "axes[0].set_xlabel('Class')\n",
    "axes[0].set_ylabel('Count')\n",
    "axes[0].set_title('Attack Detection Class Distribution')\n",
    "axes[0].set_xticklabels(['Normal', 'Attack'], rotation=0)\n",
    "\n",
    "# Pie chart\n",
    "axes[1].pie(attack_counts, labels=['Normal', 'Attack'], autopct='%1.1f%%', \n",
    "           colors=['skyblue', 'coral'], startangle=90)\n",
    "axes[1].set_title('Attack Detection Proportion')\n",
    "\n",
    "plt.tight_layout()\n",
    "plt.show()"
   ]
  },
  {
   "cell_type": "markdown",
   "metadata": {},
   "source": [
    "### 3.3 Categorical Variables Distribution"
   ]
  },
  {
   "cell_type": "code",
   "execution_count": null,
   "metadata": {},
   "outputs": [],
   "source": [
    "# Protocol distribution\n",
    "fig, axes = plt.subplots(1, 3, figsize=(16, 5))\n",
    "\n",
    "# Protocol\n",
    "intrusion_data['protocol_type'].value_counts().plot(kind='bar', ax=axes[0], color='steelblue')\n",
    "axes[0].set_title('Protocol Type Distribution')\n",
    "axes[0].set_xlabel('Protocol')\n",
    "axes[0].set_ylabel('Count')\n",
    "axes[0].tick_params(axis='x', rotation=0)\n",
    "\n",
    "# Encryption\n",
    "intrusion_data['encryption_used'].value_counts().plot(kind='bar', ax=axes[1], color='lightgreen')\n",
    "axes[1].set_title('Encryption Type Distribution')\n",
    "axes[1].set_xlabel('Encryption')\n",
    "axes[1].set_ylabel('Count')\n",
    "axes[1].tick_params(axis='x', rotation=45)\n",
    "\n",
    "# Browser\n",
    "intrusion_data['browser_type'].value_counts().head(10).plot(kind='bar', ax=axes[2], color='lightcoral')\n",
    "axes[2].set_title('Top 10 Browser Types')\n",
    "axes[2].set_xlabel('Browser')\n",
    "axes[2].set_ylabel('Count')\n",
    "axes[2].tick_params(axis='x', rotation=45)\n",
    "\n",
    "plt.tight_layout()\n",
    "plt.show()"
   ]
  },
  {
   "cell_type": "markdown",
   "metadata": {},
   "source": [
    "### 3.4 Numeric Features Distribution"
   ]
  },
  {
   "cell_type": "code",
   "execution_count": null,
   "metadata": {},
   "outputs": [],
   "source": [
    "# Numeric features\n",
    "numeric_features = ['network_packet_size', 'login_attempts', 'session_duration', \n",
    "                   'ip_reputation_score', 'failed_logins']\n",
    "\n",
    "fig, axes = plt.subplots(2, 3, figsize=(16, 10))\n",
    "axes = axes.flatten()\n",
    "\n",
    "for idx, col in enumerate(numeric_features):\n",
    "    axes[idx].hist(intrusion_data[col], bins=50, color='skyblue', edgecolor='black')\n",
    "    axes[idx].set_xlabel(col.replace('_', ' ').title())\n",
    "    axes[idx].set_ylabel('Frequency')\n",
    "    axes[idx].set_title(f'Distribution of {col.replace(\"_\", \" \").title()}')\n",
    "    \n",
    "    # Add statistics as text\n",
    "    mean_val = intrusion_data[col].mean()\n",
    "    median_val = intrusion_data[col].median()\n",
    "    axes[idx].axvline(mean_val, color='red', linestyle='--', label=f'Mean: {mean_val:.2f}')\n",
    "    axes[idx].axvline(median_val, color='green', linestyle='--', label=f'Median: {median_val:.2f}')\n",
    "    axes[idx].legend(fontsize=8)\n",
    "\n",
    "# Remove extra subplot\n",
    "fig.delaxes(axes[5])\n",
    "\n",
    "plt.tight_layout()\n",
    "plt.show()"
   ]
  },
  {
   "cell_type": "markdown",
   "metadata": {},
   "source": [
    "### 3.5 Data Quality Checks - Intrusion Detection"
   ]
  },
  {
   "cell_type": "code",
   "execution_count": null,
   "metadata": {},
   "outputs": [],
   "source": [
    "# Check for data quality issues\n",
    "print(\"🔍 Data Quality Checks:\\n\")\n",
    "\n",
    "# Packet size range\n",
    "print(f\"Network Packet Size:\")\n",
    "print(f\"  Min: {intrusion_data['network_packet_size'].min()}\")\n",
    "print(f\"  Max: {intrusion_data['network_packet_size'].max()}\")\n",
    "print(f\"  Expected range: 64-1500 bytes\")\n",
    "outside_range = ((intrusion_data['network_packet_size'] < 64) | \n",
    "                (intrusion_data['network_packet_size'] > 1500)).sum()\n",
    "print(f\"  Values outside expected range: {outside_range}\\n\")\n",
    "\n",
    "# IP reputation score (should be 0-1)\n",
    "print(f\"IP Reputation Score:\")\n",
    "print(f\"  Min: {intrusion_data['ip_reputation_score'].min():.4f}\")\n",
    "print(f\"  Max: {intrusion_data['ip_reputation_score'].max():.4f}\")\n",
    "print(f\"  Expected range: 0-1\")\n",
    "outside_range = ((intrusion_data['ip_reputation_score'] < 0) | \n",
    "                (intrusion_data['ip_reputation_score'] > 1)).sum()\n",
    "print(f\"  Values outside expected range: {outside_range}\\n\")\n",
    "\n",
    "# Check for negative values\n",
    "print(f\"Negative Values Check:\")\n",
    "for col in numeric_features:\n",
    "    negative_count = (intrusion_data[col] < 0).sum()\n",
    "    if negative_count > 0:\n",
    "        print(f\"  {col}: {negative_count} negative values\")\n",
    "    else:\n",
    "        print(f\"  {col}: ✅ No negative values\")"
   ]
  },
  {
   "cell_type": "markdown",
   "metadata": {},
   "source": [
    "## 4. Summary and Key Findings"
   ]
  },
  {
   "cell_type": "code",
   "execution_count": null,
   "metadata": {},
   "outputs": [],
   "source": [
    "print(\"=\"*70)\n",
    "print(\"INITIAL DATA ANALYSIS SUMMARY\")\n",
    "print(\"=\"*70)\n",
    "\n",
    "print(\"\\n🌍 GLOBAL THREATS DATASET:\")\n",
    "print(f\"  Records: {len(global_threats):,}\")\n",
    "print(f\"  Variables: {global_threats.shape[1]}\")\n",
    "print(f\"  Time Range: {global_threats['Year'].min()}-{global_threats['Year'].max()}\")\n",
    "print(f\"  Missing Data: {missing_global['Missing_Percentage'].sum():.2f}% total\")\n",
    "print(f\"  Duplicates: {duplicates} rows ({(duplicates/len(global_threats)*100):.2f}%)\")\n",
    "print(f\"  Unique Countries: {global_threats['Country'].nunique()}\")\n",
    "print(f\"  Unique Attack Types: {global_threats['Attack Type'].nunique()}\")\n",
    "print(f\"  Total Financial Loss: ${global_threats['Financial Loss (in Million $)'].sum():,.2f}M\")\n",
    "\n",
    "print(\"\\n🔍 INTRUSION DETECTION DATASET:\")\n",
    "print(f\"  Records: {len(intrusion_data):,}\")\n",
    "print(f\"  Variables: {intrusion_data.shape[1]}\")\n",
    "print(f\"  Missing Data: {missing_intrusion['Missing_Percentage'].sum():.2f}% total\")\n",
    "print(f\"  Attack Rate: {attack_pct[1]:.2f}%\")\n",
    "print(f\"  Class Imbalance: {attack_counts[0]/attack_counts[1]:.2f}:1 (Normal:Attack)\")\n",
    "print(f\"  Unique Protocols: {intrusion_data['protocol_type'].nunique()}\")\n",
    "print(f\"  Unique Browser Types: {intrusion_data['browser_type'].nunique()}\")\n",
    "\n",
    "print(\"\\n✅ KEY OBSERVATIONS:\")\n",
    "print(\"  1. Both datasets are relatively clean with minimal missing data\")\n",
    "print(\"  2. Global threats show wide range of financial losses (highly skewed)\")\n",
    "print(\"  3. Intrusion dataset has class imbalance (typical for security data)\")\n",
    "print(\"  4. All numeric ranges appear valid (no obvious data entry errors)\")\n",
    "print(\"  5. Categorical variables have reasonable cardinality\")\n",
    "\n",
    "print(\"\\n⚠️ POINTS FOR ATTENTION:\")\n",
    "if duplicates > 0:\n",
    "    print(f\"  - Remove {duplicates} duplicate rows from Global Threats dataset\")\n",
    "if missing_global['Missing_Percentage'].max() > 0:\n",
    "    print(f\"  - Address missing values in Global Threats dataset\")\n",
    "print(f\"  - Consider handling class imbalance for ML modeling\")\n",
    "print(f\"  - Financial losses are right-skewed, consider log transformation\")\n",
    "print(f\"  - Validate outliers in financial loss data (may be legitimate)\")\n",
    "\n",
    "print(\"\\n\" + \"=\"*70)"
   ]
  },
  {
   "cell_type": "markdown",
   "metadata": {},
   "source": [
    "## 5. Next Steps\n",
    "\n",
    "**Data Cleaning Actions:**\n",
    "1. Remove duplicate rows from global threats dataset\n",
    "2. Handle missing values (if any) using appropriate imputation\n",
    "3. Validate and document outliers\n",
    "4. Standardize categorical values (country names, attack types)\n",
    "\n",
    "**Proceed to EDA:**\n",
    "1. Bivariate analysis - relationships between variables\n",
    "2. Correlation analysis\n",
    "3. Temporal trend analysis\n",
    "4. Geographic pattern analysis\n",
    "5. Attack signature identification\n",
    "6. Statistical hypothesis testing"
   ]
  },
  {
   "cell_type": "code",
   "execution_count": null,
   "metadata": {},
   "outputs": [],
   "source": [
    "# Save cleaned datasets (after removing duplicates)\n",
    "global_threats_clean = global_threats.drop_duplicates()\n",
    "\n",
    "# Optionally save to processed folder\n",
    "# global_threats_clean.to_csv('../data/processed/global_threats_clean.csv', index=False)\n",
    "# intrusion_data.to_csv('../data/processed/intrusion_data_clean.csv', index=False)\n",
    "\n",
    "print(\"✅ IDA Complete! Ready for Exploratory Data Analysis.\")"
   ]
  }
 ],
 "metadata": {
  "kernelspec": {
   "display_name": "Python [conda env:DS]",
   "language": "python",
   "name": "conda-env-DS-py"
  },
  "language_info": {
   "codemirror_mode": {
    "name": "ipython",
    "version": 3
   },
   "file_extension": ".py",
   "mimetype": "text/x-python",
   "name": "python",
   "nbconvert_exporter": "python",
   "pygments_lexer": "ipython3",
   "version": "3.8.0"
  }
 },
 "nbformat": 4,
 "nbformat_minor": 4
}
